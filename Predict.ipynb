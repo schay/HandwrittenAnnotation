{
 "cells": [
  {
   "cell_type": "code",
   "execution_count": 1,
   "metadata": {
    "ExecuteTime": {
     "end_time": "2019-02-16T06:49:09.494105Z",
     "start_time": "2019-02-16T06:49:09.471113Z"
    }
   },
   "outputs": [],
   "source": [
    "%load_ext autoreload\n",
    "%autoreload 2"
   ]
  },
  {
   "cell_type": "code",
   "execution_count": 16,
   "metadata": {
    "ExecuteTime": {
     "end_time": "2019-02-18T04:10:21.226261Z",
     "start_time": "2019-02-18T04:10:21.153211Z"
    }
   },
   "outputs": [],
   "source": [
    "import numpy as np\n",
    "from PIL import Image\n",
    "from HandwrittenAnnotation import random_augment,center_to_corner_box, corner_to_center_box\n",
    "from HandwrittenAnnotation import get_anchors, extraction_boxes, show_image_labels\n",
    "# from etl import decode_label\n",
    "import etl"
   ]
  },
  {
   "cell_type": "code",
   "execution_count": 5,
   "metadata": {
    "ExecuteTime": {
     "end_time": "2019-02-16T06:49:44.772781Z",
     "start_time": "2019-02-16T06:49:44.692916Z"
    }
   },
   "outputs": [],
   "source": [
    "# 全データの読み込み\n",
    "etl_path = '/Users/chai/data/etlcdb/numpy/etl9b/'\n",
    "images, boxes, labels = etl.get_annotation_data(etl_path)"
   ]
  },
  {
   "cell_type": "code",
   "execution_count": 7,
   "metadata": {
    "ExecuteTime": {
     "end_time": "2019-02-16T06:52:09.996566Z",
     "start_time": "2019-02-16T06:50:01.042911Z"
    }
   },
   "outputs": [],
   "source": [
    "from HandwrittenAnnotation import YOLO\n",
    "log_dir = 'model_weight/'\n",
    "model_name = 'weights4.h5'\n",
    "anchors_path = 'model_data/yolo_anchors.txt'\n",
    "num_classes = 3036\n",
    "\n",
    "import random\n",
    "# input_shape = np.array([image_size[0]*1.5, image_size[1]*(num_concat)], dtype=np.int64)\n",
    "input_shape = np.array([96, 320], dtype=np.int64)\n",
    "\n",
    "yolo = YOLO(log_dir + model_name, anchors_path, np.arange(num_classes), input_shape, num_channels=1)"
   ]
  },
  {
   "cell_type": "code",
   "execution_count": 8,
   "metadata": {
    "ExecuteTime": {
     "end_time": "2019-02-16T06:52:10.052315Z",
     "start_time": "2019-02-16T06:52:09.998865Z"
    }
   },
   "outputs": [],
   "source": [
    "# サンプルの生成\n",
    "image_size = [64, 64]\n",
    "num_concat = 4\n",
    "\n",
    "idx = [random.randrange(num_classes * 200) for _ in range(num_concat)]\n",
    "r_translate = 0\n",
    "r_scale = 0\n",
    "r_aspect_rate = 0\n",
    "image_input_shape = np.array([image_size[0]*1.5, image_size[1]*(num_concat)], dtype=np.int64)\n",
    "\n",
    "image, _ = random_augment(idx, images, boxes, image_size, image_input_shape,\n",
    "                          r_translate, r_scale, r_aspect_rate, np.bool)\n",
    "pil_img = Image.fromarray(np.uint8(image))"
   ]
  },
  {
   "cell_type": "code",
   "execution_count": 9,
   "metadata": {
    "ExecuteTime": {
     "end_time": "2019-02-16T06:52:10.107379Z",
     "start_time": "2019-02-16T06:52:10.054997Z"
    }
   },
   "outputs": [
    {
     "name": "stdout",
     "output_type": "stream",
     "text": [
      "232.69489539748955\n",
      "int64\n"
     ]
    }
   ],
   "source": [
    "# 画像の読み込み\n",
    "img_dir = 'test_img/'\n",
    "file_name = 'test6.png'\n",
    "pil_img = Image.open(img_dir + file_name)\n",
    "pil_img = pil_img.convert('L')\n",
    "\n",
    "def g2b_image(img):\n",
    "    np_img = np.array(img)\n",
    "    average = np.average(np_img)\n",
    "    print(average)\n",
    "    np_img = np.where(np_img > average, 0, 1)\n",
    "    print(np_img.dtype)\n",
    "    return  Image.fromarray(np.uint8(np_img))\n",
    "\n",
    "pil_img = g2b_image(pil_img)"
   ]
  },
  {
   "cell_type": "code",
   "execution_count": 10,
   "metadata": {
    "ExecuteTime": {
     "end_time": "2019-02-16T06:53:05.804294Z",
     "start_time": "2019-02-16T06:52:10.110170Z"
    }
   },
   "outputs": [
    {
     "name": "stdout",
     "output_type": "stream",
     "text": [
      "(239, 50)\n",
      "Found 3 boxes for img\n",
      "2825 0.11 (270, 22) (319, 70)\n",
      "67 0.31 (271, 7) (318, 86)\n",
      "1416 0.90 (0, 21) (62, 72)\n",
      "55.64845624000009\n",
      "[0.92031249 0.47916667 0.15312499 0.5       ]\n",
      "[0.92031249 0.48437498 0.14687496 0.82291663]\n",
      "[0.096875   0.484375   0.19374999 0.53125   ]\n",
      "0.902863\n",
      "0.30828884\n",
      "0.11284945\n"
     ]
    },
    {
     "data": {
      "text/plain": [
       "[None, None, None]"
      ]
     },
     "execution_count": 10,
     "metadata": {},
     "output_type": "execute_result"
    }
   ],
   "source": [
    "print(pil_img.size)\n",
    "o_image, o_box, o_score, o_class = yolo.detect_image(pil_img, image_mode='L')\n",
    "o_image = np.squeeze(o_image)\n",
    "\n",
    "o_box = o_box.astype(np.float32)\n",
    "if len(o_box) != 0:\n",
    "    o_box[:, 0:2] = np.array([box[0:2] / o_image.shape[::-1] for box in o_box])\n",
    "    o_box[:, 2:4] =np.array([box[2:4] / o_image.shape[::-1] for box in o_box])\n",
    "\n",
    "o_box = list(map(corner_to_center_box, o_box))\n",
    "list(map(print, o_box))\n",
    "list(map(print, o_score))"
   ]
  },
  {
   "cell_type": "code",
   "execution_count": 11,
   "metadata": {
    "ExecuteTime": {
     "end_time": "2019-02-16T06:53:05.970339Z",
     "start_time": "2019-02-16T06:53:05.808295Z"
    }
   },
   "outputs": [
    {
     "data": {
      "image/png": "[encoded data removed]",
      "text/plain": [
       "<Figure size 432x288 with 1 Axes>"
      ]
     },
     "metadata": {
      "needs_background": "light"
     },
     "output_type": "display_data"
    }
   ],
   "source": [
    "show_image_labels(np.array(o_image), o_box, o_score, map(etl.decode_label, reversed(o_class)), threshould=0)"
   ]
  },
  {
   "cell_type": "code",
   "execution_count": 12,
   "metadata": {
    "ExecuteTime": {
     "end_time": "2019-02-16T06:53:06.006361Z",
     "start_time": "2019-02-16T06:53:05.972263Z"
    }
   },
   "outputs": [
    {
     "name": "stdout",
     "output_type": "stream",
     "text": [
      "['松', '予', 'ろ']\n",
      "[0.902863   0.11284945 0.30828884]\n"
     ]
    }
   ],
   "source": [
    "idx = np.argsort(np.array(o_box)[:, 0])\n",
    "print(list(map(etl.decode_label, o_class[::-1][idx])))\n",
    "print(o_score[::-1][idx])"
   ]
  },
  {
   "cell_type": "code",
   "execution_count": 13,
   "metadata": {
    "ExecuteTime": {
     "end_time": "2019-02-16T06:53:06.039883Z",
     "start_time": "2019-02-16T06:53:06.008295Z"
    }
   },
   "outputs": [],
   "source": [
    "# 全体にバリエーションを増やす"
   ]
  },
  {
   "cell_type": "code",
   "execution_count": null,
   "metadata": {},
   "outputs": [],
   "source": []
  }
 ],
 "metadata": {
  "kernelspec": {
   "display_name": "Python 3",
   "language": "python",
   "name": "python3"
  },
  "language_info": {
   "codemirror_mode": {
    "name": "ipython",
    "version": 3
   },
   "file_extension": ".py",
   "mimetype": "text/x-python",
   "name": "python",
   "nbconvert_exporter": "python",
   "pygments_lexer": "ipython3",
   "version": "3.6.6"
  }
 },
 "nbformat": 4,
 "nbformat_minor": 2
}
